{
  "nbformat": 4,
  "nbformat_minor": 0,
  "metadata": {
    "colab": {
      "provenance": []
    },
    "kernelspec": {
      "name": "python3",
      "display_name": "Python 3"
    },
    "language_info": {
      "name": "python"
    }
  },
  "cells": [
    {
      "cell_type": "code",
      "source": [
        "import numpy as np\n",
        "from sklearn.datasets import make_classification\n",
        "from sklearn.preprocessing import StandardScaler\n",
        "from sklearn.model_selection import train_test_split\n",
        "import cvxpy as cp"
      ],
      "metadata": {
        "id": "hmw9yPxjWPQF"
      },
      "execution_count": null,
      "outputs": []
    },
    {
      "cell_type": "code",
      "source": [
        "# Generate toy data\n",
        "X, y = make_classification(n_samples=1000, n_features=10, n_informative=5, random_state=42)\n",
        "\n",
        "# Preprocess data\n",
        "\n",
        "X = StandardScaler().fit_transform(X)\n",
        "\n",
        "# Convert labels to {-1, 1} format for compatibility with the hinge loss function used later\n",
        "y = 2*y - 1\n",
        "\n",
        "# Split data into train and test sets\n",
        "X_train, X_test, y_train, y_test = train_test_split(X, y, test_size=0.2, random_state=42)\n",
        "\n",
        "\n",
        "m, n = X_train.shape\n",
        "theta = cp.Variable(n) # weight vector\n",
        "b = cp.Variable() # bias term\n",
        "\n",
        "loss = cp.sum(cp.pos(1 - cp.multiply(y_train, X_train @ theta + b))) / m # hinge loss function\n",
        "reg = cp.norm(theta, 1) # L1 regularization\n",
        "lam = 0.1 \n",
        "\n",
        "\n",
        "\n",
        "objective = cp.Minimize(loss + lam*reg)\n",
        "constraints = [] \n",
        "\n",
        "\n",
        "problem = cp.Problem(objective, constraints)\n",
        "problem.solve(verbose=True)\n",
        "\n",
        "\n",
        "w = theta.value\n",
        "b = b.value\n",
        "\n",
        "# Evaluate model on test set\n",
        "\n",
        "y_pred = np.sign(X_test @ w + b)\n",
        "\n",
        "accuracy = np.mean(y_pred == y_test)\n",
        "print(f\"Test accuracy: {accuracy * 100}%\")\n"
      ],
      "metadata": {
        "colab": {
          "base_uri": "https://localhost:8080/"
        },
        "id": "VbNlxKzpXU8m",
        "outputId": "577c215a-a974-4cc3-8f3f-d19c42235df7"
      },
      "execution_count": null,
      "outputs": [
        {
          "output_type": "stream",
          "name": "stdout",
          "text": [
            "===============================================================================\n",
            "                                     CVXPY                                     \n",
            "                                     v1.3.1                                    \n",
            "===============================================================================\n",
            "(CVXPY) May 13 02:01:03 PM: Your problem has 11 variables, 0 constraints, and 0 parameters.\n",
            "(CVXPY) May 13 02:01:03 PM: It is compliant with the following grammars: DCP, DQCP\n",
            "(CVXPY) May 13 02:01:03 PM: (If you need to solve this problem multiple times, but with different data, consider using parameters.)\n",
            "(CVXPY) May 13 02:01:03 PM: CVXPY will first compile your problem; then, it will invoke a numerical solver to obtain a solution.\n",
            "-------------------------------------------------------------------------------\n",
            "                                  Compilation                                  \n",
            "-------------------------------------------------------------------------------\n",
            "(CVXPY) May 13 02:01:03 PM: Compiling problem (target solver=ECOS).\n",
            "(CVXPY) May 13 02:01:03 PM: Reduction chain: Dcp2Cone -> CvxAttr2Constr -> ConeMatrixStuffing -> ECOS\n",
            "(CVXPY) May 13 02:01:03 PM: Applying reduction Dcp2Cone\n",
            "(CVXPY) May 13 02:01:03 PM: Applying reduction CvxAttr2Constr\n",
            "(CVXPY) May 13 02:01:03 PM: Applying reduction ConeMatrixStuffing\n",
            "(CVXPY) May 13 02:01:03 PM: Applying reduction ECOS\n",
            "(CVXPY) May 13 02:01:03 PM: Finished problem compilation (took 1.458e-01 seconds).\n",
            "-------------------------------------------------------------------------------\n",
            "                                Numerical solver                               \n",
            "-------------------------------------------------------------------------------\n",
            "(CVXPY) May 13 02:01:03 PM: Invoking solver ECOS  to obtain a solution.\n",
            "-------------------------------------------------------------------------------\n",
            "                                    Summary                                    \n",
            "-------------------------------------------------------------------------------\n",
            "(CVXPY) May 13 02:01:03 PM: Problem status: optimal\n",
            "(CVXPY) May 13 02:01:03 PM: Optimal value: 7.245e-01\n",
            "(CVXPY) May 13 02:01:03 PM: Compilation took 1.458e-01 seconds\n",
            "(CVXPY) May 13 02:01:03 PM: Solver (including time spent in interface) took 2.415e-02 seconds\n",
            "Test accuracy: 83.0%\n"
          ]
        }
      ]
    },
    {
      "cell_type": "code",
      "source": [],
      "metadata": {
        "id": "z783eq2-WgZU"
      },
      "execution_count": null,
      "outputs": []
    }
  ]
}